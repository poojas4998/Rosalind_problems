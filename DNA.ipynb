{
 "cells": [
  {
   "cell_type": "code",
   "execution_count": 61,
   "id": "e6d54129-8aa9-45f0-88d7-f1554d3e5658",
   "metadata": {
    "tags": []
   },
   "outputs": [
    {
     "name": "stdout",
     "output_type": "stream",
     "text": [
      "{'A': 20, 'T': 21, 'G': 17, 'C': 12}\n",
      "[20, 21, 17, 12]\n"
     ]
    }
   ],
   "source": [
    "#https://rosalind.info/problems/dna/\n",
    "\n",
    "# A string is simply an ordered collection of symbols selected from some alphabet and formed into a word; the length of a string is the number of symbols that it contains.\n",
    "\n",
    "# An example of a length 21 DNA string (whose alphabet contains the symbols 'A', 'C', 'G', and 'T') is \"ATGCTTCAGAAAGGTCTTACG.\"\n",
    "\n",
    "# Given: A DNA string s\n",
    "#  of length at most 1000 nt.\n",
    "\n",
    "# Return: Four integers (separated by spaces) counting the respective number of times that the symbols 'A', 'C', 'G', and 'T' occur in s\n",
    "# .\n",
    "\n",
    "import numpy as np\n",
    "\n",
    "sequence = 'AGCTTTTCATTCTGACTGCAACGGGCAATATGTCTCTGTGTGGATTAAAAAAAGAGTGTCTGATAGCAGC'\n",
    "list = []\n",
    "dictionary = {\"A\":0,\"T\":0,\"G\":0,\"C\":0}\n",
    "\n",
    "for i in sequence:\n",
    "    for k,v in dictionary.items():\n",
    "        if i==k:\n",
    "            dictionary[i]+=1\n",
    "\n",
    "print(dictionary)\n",
    "\n",
    "for k,v in dictionary.items():\n",
    "    #print(val)\n",
    "    list.append(v)\n",
    "    \n",
    "print(list)"
   ]
  },
  {
   "cell_type": "code",
   "execution_count": 60,
   "id": "2034d359-b31a-47e0-9fc1-b641591abdbf",
   "metadata": {
    "tags": []
   },
   "outputs": [
    {
     "data": {
      "text/plain": [
       "[20, 21, 17, 12]"
      ]
     },
     "execution_count": 60,
     "metadata": {},
     "output_type": "execute_result"
    }
   ],
   "source": [
    "def counting_DNA_nucleotides(sequence):\n",
    "    list = []\n",
    "    dictionary = {\"A\":0,\"T\":0,\"G\":0,\"C\":0}\n",
    "    \n",
    "    for i in sequence:\n",
    "        for k,v in dictionary.items():\n",
    "            if i==k:\n",
    "                dictionary[i]+=1\n",
    "    for k,v in dictionary.items():\n",
    "        #print(val)\n",
    "        list.append(v)\n",
    "    return(dictionary,list)\n",
    "\n",
    "counting_DNA_nucleotides('AGCTTTTCATTCTGACTGCAACGGGCAATATGTCTCTGTGTGGATTAAAAAAAGAGTGTCTGATAGCAGC')[1]\n",
    "    \n",
    "    "
   ]
  }
 ],
 "metadata": {
  "kernelspec": {
   "display_name": "Python 3 (ipykernel)",
   "language": "python",
   "name": "python3"
  },
  "language_info": {
   "codemirror_mode": {
    "name": "ipython",
    "version": 3
   },
   "file_extension": ".py",
   "mimetype": "text/x-python",
   "name": "python",
   "nbconvert_exporter": "python",
   "pygments_lexer": "ipython3",
   "version": "3.9.6"
  }
 },
 "nbformat": 4,
 "nbformat_minor": 5
}
