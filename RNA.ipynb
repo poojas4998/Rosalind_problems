{
 "cells": [
  {
   "cell_type": "markdown",
   "id": "2ad2a877-88d3-4ee9-b91e-58d7a95ce325",
   "metadata": {
    "tags": []
   },
   "source": [
    "https://rosalind.info/problems/rna/\n",
    "\n",
    "# Transcribing_DNA_into_RNA\n",
    "\n",
    "\n",
    "An RNA string is a string formed from the alphabet containing 'A', 'C', 'G', and 'U'.\n",
    "Given a DNA string t\n",
    "corresponding to a coding strand, its transcribed RNA string u\n",
    "is formed by replacing all occurrences of 'T' in t with 'U' in u.\n",
    "\n",
    "Given: A DNA string t\n",
    "having length at most 1000 nt.\n",
    "Return: The transcribed RNA string of t\n"
   ]
  },
  {
   "cell_type": "code",
   "execution_count": 5,
   "id": "d28908ae-ac3c-4957-818a-b2ebe5446664",
   "metadata": {
    "tags": []
   },
   "outputs": [
    {
     "name": "stdout",
     "output_type": "stream",
     "text": [
      "GAUGGAACUUGACUACGUAAAUU\n"
     ]
    }
   ],
   "source": [
    "sequence = 'GATGGAACTTGACTACGTAAATT'\n",
    "rna_sequence = ''\n",
    "\n",
    "for i in sequence:\n",
    "    if i == 'T':\n",
    "        rna_sequence+='U'\n",
    "    else:    \n",
    "        rna_sequence+=i\n",
    "\n",
    "print(rna_sequence)\n"
   ]
  },
  {
   "cell_type": "code",
   "execution_count": 11,
   "id": "fdff42df-7aa7-45e2-8c3d-e8eddc982388",
   "metadata": {
    "tags": []
   },
   "outputs": [
    {
     "data": {
      "text/plain": [
       "'GAUGGAACUUGACUACGUAAAUU'"
      ]
     },
     "execution_count": 11,
     "metadata": {},
     "output_type": "execute_result"
    }
   ],
   "source": [
    "def Transcribing_DNA_into_RNA(t):\n",
    "    u = ''\n",
    "    for i in t:\n",
    "        if i == 'T':\n",
    "            u+='U'\n",
    "        else:    \n",
    "            u+=i\n",
    "    return(u)\n",
    "\n",
    "Transcribing_DNA_into_RNA('GATGGAACTTGACTACGTAAATT')"
   ]
  },
  {
   "cell_type": "code",
   "execution_count": null,
   "id": "fb222ba9-9eb7-4084-bda8-6bfd70796b40",
   "metadata": {},
   "outputs": [],
   "source": []
  },
  {
   "cell_type": "code",
   "execution_count": null,
   "id": "3a2fd1a0-4851-42f7-804d-f07643635e60",
   "metadata": {},
   "outputs": [],
   "source": []
  }
 ],
 "metadata": {
  "kernelspec": {
   "display_name": "Python 3 (ipykernel)",
   "language": "python",
   "name": "python3"
  },
  "language_info": {
   "codemirror_mode": {
    "name": "ipython",
    "version": 3
   },
   "file_extension": ".py",
   "mimetype": "text/x-python",
   "name": "python",
   "nbconvert_exporter": "python",
   "pygments_lexer": "ipython3",
   "version": "3.9.6"
  }
 },
 "nbformat": 4,
 "nbformat_minor": 5
}
