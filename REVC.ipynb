{
 "cells": [
  {
   "cell_type": "markdown",
   "id": "cec30cff-b549-4af3-959c-9ab8af29ca3c",
   "metadata": {},
   "source": [
    "https://rosalind.info/problems/revc/\n",
    "\n",
    "# Complementing a Strand of DNA\n",
    "\n",
    "Problem\n",
    "In DNA strings, symbols 'A' and 'T' are complements of each other, as are 'C' and 'G'.\n",
    "\n",
    "The reverse complement of a DNA string s\n",
    " is the string sc\n",
    " formed by reversing the symbols of s\n",
    ", then taking the complement of each symbol (e.g., the reverse complement of \"GTCA\" is \"TGAC\").\n",
    "\n",
    "Given: A DNA string s\n",
    " of length at most 1000 bp.\n",
    "\n",
    "Return: The reverse complement sc\n",
    " of s\n",
    "."
   ]
  },
  {
   "cell_type": "code",
   "execution_count": 15,
   "id": "a61b7f96-14fa-40e0-9771-2fb66faae54e",
   "metadata": {
    "tags": []
   },
   "outputs": [
    {
     "name": "stdout",
     "output_type": "stream",
     "text": [
      "TTTTGGGCCA\n",
      "ACCGGGTTTT\n"
     ]
    }
   ],
   "source": [
    "sequence = 'AAAACCCGGT'\n",
    "complement = ''\n",
    "reverse_complement = ''\n",
    "dictionary = {\"A\":\"T\",\"T\":\"A\",\"G\":\"C\",\"C\":\"G\"}\n",
    "index = len(sequence)\n",
    "\n",
    "\n",
    "for i in sequence:\n",
    "    complement+=dictionary[i]\n",
    "print(complement)\n",
    "\n",
    "while index > 0:\n",
    "    reverse_complement += complement[index-1]\n",
    "    index -=1\n",
    "    \n",
    "print(reverse_complement)    \n",
    "\n"
   ]
  },
  {
   "cell_type": "code",
   "execution_count": null,
   "id": "b37efed9-798c-4fd8-984c-bba9a17a044b",
   "metadata": {},
   "outputs": [],
   "source": [
    "def complementing_a_strand_of_DNA(s):\n",
    "    complement = ''\n",
    "reverse_complement = ''\n",
    "dictionary = {\"A\":\"T\",\"T\":\"A\",\"G\":\"C\",\"C\":\"G\"}\n",
    "index = len(sequence)\n",
    "    for i in sequence:\n",
    "        complement+=dictionary[i]\n",
    "\n",
    "    while index > 0:\n",
    "        reverse_complement += complement[index-1]\n",
    "        index -=1\n",
    "    return(complement, reverse_complement)\n",
    "\n",
    "complementing_a_strand_of_DNA('AAAACCCGGT')\n",
    "    \n",
    "    "
   ]
  }
 ],
 "metadata": {
  "kernelspec": {
   "display_name": "Python 3 (ipykernel)",
   "language": "python",
   "name": "python3"
  },
  "language_info": {
   "codemirror_mode": {
    "name": "ipython",
    "version": 3
   },
   "file_extension": ".py",
   "mimetype": "text/x-python",
   "name": "python",
   "nbconvert_exporter": "python",
   "pygments_lexer": "ipython3",
   "version": "3.9.6"
  }
 },
 "nbformat": 4,
 "nbformat_minor": 5
}
